{
 "cells": [
  {
   "cell_type": "code",
   "execution_count": null,
   "metadata": {},
   "outputs": [],
   "source": [
    "import pandas as pd\n",
    "from talib import RSI, BBANDS\n",
    "\n",
    "DATA_STORE = 'sp.h5'"
   ]
  },
  {
   "cell_type": "code",
   "execution_count": null,
   "metadata": {},
   "outputs": [],
   "source": [
    "with pd.HDFStore(DATA_STORE) as store:\n",
    "    data = store.get('prices_merged')"
   ]
  },
  {
   "cell_type": "code",
   "execution_count": null,
   "metadata": {},
   "outputs": [],
   "source": [
    "# dropen von empty tickers\n",
    "empty = []\n",
    "for index, row in data.iterrows():\n",
    "    if (row['prices'].empty):\n",
    "        empty.append(index)\n",
    "print(len(empty))\n",
    "data = data.drop(empty, axis=0)"
   ]
  },
  {
   "cell_type": "code",
   "execution_count": null,
   "metadata": {},
   "outputs": [],
   "source": [
    "# Berechnen der weekly returns\n",
    "for index, row in data.iterrows():\n",
    "    prices = row['prices']\n",
    "    prices['weekly_return'] = prices['adjusted_close'].pct_change()\n",
    "    data.loc[index]['prices'] = prices"
   ]
  },
  {
   "cell_type": "code",
   "execution_count": null,
   "metadata": {},
   "outputs": [],
   "source": [
    "# Droppen von empty rows für beta\n",
    "for index, row in data.iterrows():\n",
    "    prices = row['prices']\n",
    "    prices = prices.dropna(axis=0, how='any')\n",
    "    data.loc[index]['prices'] = prices"
   ]
  },
  {
   "cell_type": "code",
   "execution_count": null,
   "metadata": {},
   "outputs": [],
   "source": [
    "data.loc['SIAL']['prices'].tail()\n"
   ]
  },
  {
   "cell_type": "code",
   "execution_count": null,
   "metadata": {},
   "outputs": [],
   "source": [
    "#  rsi berechnen\n",
    "for index, row in data.iterrows():\n",
    "    prices = row['prices']\n",
    "    p = row['prices']['adjusted_close']\n",
    "    try:\n",
    "        rsi = RSI(p, 14)\n",
    "    except:\n",
    "        print(index)\n",
    "    data.loc[index]['prices']['rsi'] = rsi"
   ]
  },
  {
   "attachments": {},
   "cell_type": "markdown",
   "metadata": {},
   "source": [
    "KG wird entfernt, da Daten fehlen"
   ]
  },
  {
   "cell_type": "code",
   "execution_count": null,
   "metadata": {},
   "outputs": [],
   "source": [
    "data = data.drop('KG', axis=0)\n"
   ]
  },
  {
   "cell_type": "code",
   "execution_count": null,
   "metadata": {},
   "outputs": [],
   "source": [
    "# #Alternativ bis hierher\n",
    "# with pd.HDFStore(DATA_STORE) as store:\n",
    "#     data = store.get('prices_merged')\n",
    "\n",
    "# # Leere Ticker entfernen\n",
    "# empty = [index for index, row in data.iterrows() if row['prices'].empty]\n",
    "# data.drop(empty, axis=0, inplace=True)\n",
    "\n",
    "# # Wöchentliche Renditen berechnen\n",
    "# data['prices'] = data['prices'].apply(lambda prices: prices.assign(weekly_return=prices['adjusted_close'].pct_change()))\n",
    "\n",
    "# # Zeilen mit leeren Beta-Werten entfernen\n",
    "# data['prices'] = data['prices'].apply(lambda prices: prices.dropna(axis=0, how='any'))\n",
    "\n",
    "# # RSI berechnen\n",
    "# def calculate_rsi(prices):\n",
    "#     rsi = RSI(prices['adjusted_close'], 14)\n",
    "#     return prices.assign(rsi=rsi)\n",
    "\n",
    "# data['prices'] = data['prices'].apply(calculate_rsi)\n"
   ]
  },
  {
   "cell_type": "code",
   "execution_count": null,
   "metadata": {},
   "outputs": [],
   "source": [
    "# Bollinger Bänder berechnen\n",
    "\n",
    "for index, row in data.iterrows():\n",
    "    prices = row['prices']\n",
    "    p = row['prices']['adjusted_close']\n",
    "    if p.isna().all():  # Überprüfen, ob alle Werte in p NaN sind\n",
    "        print(f\"Skipping ticker {index} because all adjusted_close values are NaN.\")\n",
    "        continue\n",
    "\n",
    "    u, m, l = BBANDS(p)\n",
    "    data.loc[index]['prices']['bb_low'] = l \n",
    "    data.loc[index]['prices']['bb_mid'] = m \n",
    "    data.loc[index]['prices']['bb_upper'] = u \n"
   ]
  },
  {
   "cell_type": "code",
   "execution_count": null,
   "metadata": {},
   "outputs": [],
   "source": [
    "with pd.HDFStore(DATA_STORE) as store:\n",
    "    store.put('data_clean', data)"
   ]
  },
  {
   "cell_type": "code",
   "execution_count": null,
   "metadata": {},
   "outputs": [],
   "source": [
    "# #neu\n",
    "# # Laden der Daten\n",
    "# DATA_STORE = 'sp.h5'\n",
    "# with pd.HDFStore(DATA_STORE) as store:\n",
    "#     data = store.get('prices_merged')\n",
    "\n",
    "# # Löschen von doppelten Einträgen\n",
    "# data.drop_duplicates(subset=['ticker', 'date'], inplace=True)\n",
    "\n",
    "# # Entfernen von ungültigen Werten\n",
    "# data.replace([np.inf, -np.inf], np.nan, inplace=True)\n",
    "# data.dropna(inplace=True)\n",
    "\n",
    "# # Ersetzen fehlender Werte durch den Durchschnittswert der benachbarten Einträge\n",
    "# data.interpolate(method='linear', limit_direction='both', inplace=True)\n",
    "\n",
    "# # Speichern der bereinigten Daten\n",
    "# with pd.HDFStore(DATA_STORE) as store:\n",
    "#     store.put('data_clean', data)\n"
   ]
  }
 ],
 "metadata": {
  "kernelspec": {
   "display_name": "master",
   "language": "python",
   "name": "python3"
  },
  "language_info": {
   "codemirror_mode": {
    "name": "ipython",
    "version": 3
   },
   "file_extension": ".py",
   "mimetype": "text/x-python",
   "name": "python",
   "nbconvert_exporter": "python",
   "pygments_lexer": "ipython3",
   "version": "3.8.16"
  },
  "orig_nbformat": 4
 },
 "nbformat": 4,
 "nbformat_minor": 2
}
